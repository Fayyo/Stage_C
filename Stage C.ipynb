{
 "cells": [
  {
   "cell_type": "code",
   "execution_count": 1,
   "id": "68fdc073",
   "metadata": {},
   "outputs": [
    {
     "data": {
      "text/html": [
       "<div>\n",
       "<style scoped>\n",
       "    .dataframe tbody tr th:only-of-type {\n",
       "        vertical-align: middle;\n",
       "    }\n",
       "\n",
       "    .dataframe tbody tr th {\n",
       "        vertical-align: top;\n",
       "    }\n",
       "\n",
       "    .dataframe thead th {\n",
       "        text-align: right;\n",
       "    }\n",
       "</style>\n",
       "<table border=\"1\" class=\"dataframe\">\n",
       "  <thead>\n",
       "    <tr style=\"text-align: right;\">\n",
       "      <th></th>\n",
       "      <th>tau1</th>\n",
       "      <th>tau2</th>\n",
       "      <th>tau3</th>\n",
       "      <th>tau4</th>\n",
       "      <th>p1</th>\n",
       "      <th>p2</th>\n",
       "      <th>p3</th>\n",
       "      <th>p4</th>\n",
       "      <th>g1</th>\n",
       "      <th>g2</th>\n",
       "      <th>g3</th>\n",
       "      <th>g4</th>\n",
       "      <th>stab</th>\n",
       "      <th>stabf</th>\n",
       "    </tr>\n",
       "  </thead>\n",
       "  <tbody>\n",
       "    <tr>\n",
       "      <th>0</th>\n",
       "      <td>2.959060</td>\n",
       "      <td>3.079885</td>\n",
       "      <td>8.381025</td>\n",
       "      <td>9.780754</td>\n",
       "      <td>3.763085</td>\n",
       "      <td>-0.782604</td>\n",
       "      <td>-1.257395</td>\n",
       "      <td>-1.723086</td>\n",
       "      <td>0.650456</td>\n",
       "      <td>0.859578</td>\n",
       "      <td>0.887445</td>\n",
       "      <td>0.958034</td>\n",
       "      <td>0.055347</td>\n",
       "      <td>unstable</td>\n",
       "    </tr>\n",
       "    <tr>\n",
       "      <th>1</th>\n",
       "      <td>9.304097</td>\n",
       "      <td>4.902524</td>\n",
       "      <td>3.047541</td>\n",
       "      <td>1.369357</td>\n",
       "      <td>5.067812</td>\n",
       "      <td>-1.940058</td>\n",
       "      <td>-1.872742</td>\n",
       "      <td>-1.255012</td>\n",
       "      <td>0.413441</td>\n",
       "      <td>0.862414</td>\n",
       "      <td>0.562139</td>\n",
       "      <td>0.781760</td>\n",
       "      <td>-0.005957</td>\n",
       "      <td>stable</td>\n",
       "    </tr>\n",
       "    <tr>\n",
       "      <th>2</th>\n",
       "      <td>8.971707</td>\n",
       "      <td>8.848428</td>\n",
       "      <td>3.046479</td>\n",
       "      <td>1.214518</td>\n",
       "      <td>3.405158</td>\n",
       "      <td>-1.207456</td>\n",
       "      <td>-1.277210</td>\n",
       "      <td>-0.920492</td>\n",
       "      <td>0.163041</td>\n",
       "      <td>0.766689</td>\n",
       "      <td>0.839444</td>\n",
       "      <td>0.109853</td>\n",
       "      <td>0.003471</td>\n",
       "      <td>unstable</td>\n",
       "    </tr>\n",
       "    <tr>\n",
       "      <th>3</th>\n",
       "      <td>0.716415</td>\n",
       "      <td>7.669600</td>\n",
       "      <td>4.486641</td>\n",
       "      <td>2.340563</td>\n",
       "      <td>3.963791</td>\n",
       "      <td>-1.027473</td>\n",
       "      <td>-1.938944</td>\n",
       "      <td>-0.997374</td>\n",
       "      <td>0.446209</td>\n",
       "      <td>0.976744</td>\n",
       "      <td>0.929381</td>\n",
       "      <td>0.362718</td>\n",
       "      <td>0.028871</td>\n",
       "      <td>unstable</td>\n",
       "    </tr>\n",
       "    <tr>\n",
       "      <th>4</th>\n",
       "      <td>3.134112</td>\n",
       "      <td>7.608772</td>\n",
       "      <td>4.943759</td>\n",
       "      <td>9.857573</td>\n",
       "      <td>3.525811</td>\n",
       "      <td>-1.125531</td>\n",
       "      <td>-1.845975</td>\n",
       "      <td>-0.554305</td>\n",
       "      <td>0.797110</td>\n",
       "      <td>0.455450</td>\n",
       "      <td>0.656947</td>\n",
       "      <td>0.820923</td>\n",
       "      <td>0.049860</td>\n",
       "      <td>unstable</td>\n",
       "    </tr>\n",
       "    <tr>\n",
       "      <th>...</th>\n",
       "      <td>...</td>\n",
       "      <td>...</td>\n",
       "      <td>...</td>\n",
       "      <td>...</td>\n",
       "      <td>...</td>\n",
       "      <td>...</td>\n",
       "      <td>...</td>\n",
       "      <td>...</td>\n",
       "      <td>...</td>\n",
       "      <td>...</td>\n",
       "      <td>...</td>\n",
       "      <td>...</td>\n",
       "      <td>...</td>\n",
       "      <td>...</td>\n",
       "    </tr>\n",
       "    <tr>\n",
       "      <th>9995</th>\n",
       "      <td>2.930406</td>\n",
       "      <td>9.487627</td>\n",
       "      <td>2.376523</td>\n",
       "      <td>6.187797</td>\n",
       "      <td>3.343416</td>\n",
       "      <td>-0.658054</td>\n",
       "      <td>-1.449106</td>\n",
       "      <td>-1.236256</td>\n",
       "      <td>0.601709</td>\n",
       "      <td>0.779642</td>\n",
       "      <td>0.813512</td>\n",
       "      <td>0.608385</td>\n",
       "      <td>0.023892</td>\n",
       "      <td>unstable</td>\n",
       "    </tr>\n",
       "    <tr>\n",
       "      <th>9996</th>\n",
       "      <td>3.392299</td>\n",
       "      <td>1.274827</td>\n",
       "      <td>2.954947</td>\n",
       "      <td>6.894759</td>\n",
       "      <td>4.349512</td>\n",
       "      <td>-1.663661</td>\n",
       "      <td>-0.952437</td>\n",
       "      <td>-1.733414</td>\n",
       "      <td>0.502079</td>\n",
       "      <td>0.567242</td>\n",
       "      <td>0.285880</td>\n",
       "      <td>0.366120</td>\n",
       "      <td>-0.025803</td>\n",
       "      <td>stable</td>\n",
       "    </tr>\n",
       "    <tr>\n",
       "      <th>9997</th>\n",
       "      <td>2.364034</td>\n",
       "      <td>2.842030</td>\n",
       "      <td>8.776391</td>\n",
       "      <td>1.008906</td>\n",
       "      <td>4.299976</td>\n",
       "      <td>-1.380719</td>\n",
       "      <td>-0.943884</td>\n",
       "      <td>-1.975373</td>\n",
       "      <td>0.487838</td>\n",
       "      <td>0.986505</td>\n",
       "      <td>0.149286</td>\n",
       "      <td>0.145984</td>\n",
       "      <td>-0.031810</td>\n",
       "      <td>stable</td>\n",
       "    </tr>\n",
       "    <tr>\n",
       "      <th>9998</th>\n",
       "      <td>9.631511</td>\n",
       "      <td>3.994398</td>\n",
       "      <td>2.757071</td>\n",
       "      <td>7.821347</td>\n",
       "      <td>2.514755</td>\n",
       "      <td>-0.966330</td>\n",
       "      <td>-0.649915</td>\n",
       "      <td>-0.898510</td>\n",
       "      <td>0.365246</td>\n",
       "      <td>0.587558</td>\n",
       "      <td>0.889118</td>\n",
       "      <td>0.818391</td>\n",
       "      <td>0.037789</td>\n",
       "      <td>unstable</td>\n",
       "    </tr>\n",
       "    <tr>\n",
       "      <th>9999</th>\n",
       "      <td>6.530527</td>\n",
       "      <td>6.781790</td>\n",
       "      <td>4.349695</td>\n",
       "      <td>8.673138</td>\n",
       "      <td>3.492807</td>\n",
       "      <td>-1.390285</td>\n",
       "      <td>-1.532193</td>\n",
       "      <td>-0.570329</td>\n",
       "      <td>0.073056</td>\n",
       "      <td>0.505441</td>\n",
       "      <td>0.378761</td>\n",
       "      <td>0.942631</td>\n",
       "      <td>0.045263</td>\n",
       "      <td>unstable</td>\n",
       "    </tr>\n",
       "  </tbody>\n",
       "</table>\n",
       "<p>10000 rows × 14 columns</p>\n",
       "</div>"
      ],
      "text/plain": [
       "          tau1      tau2      tau3      tau4        p1        p2        p3  \\\n",
       "0     2.959060  3.079885  8.381025  9.780754  3.763085 -0.782604 -1.257395   \n",
       "1     9.304097  4.902524  3.047541  1.369357  5.067812 -1.940058 -1.872742   \n",
       "2     8.971707  8.848428  3.046479  1.214518  3.405158 -1.207456 -1.277210   \n",
       "3     0.716415  7.669600  4.486641  2.340563  3.963791 -1.027473 -1.938944   \n",
       "4     3.134112  7.608772  4.943759  9.857573  3.525811 -1.125531 -1.845975   \n",
       "...        ...       ...       ...       ...       ...       ...       ...   \n",
       "9995  2.930406  9.487627  2.376523  6.187797  3.343416 -0.658054 -1.449106   \n",
       "9996  3.392299  1.274827  2.954947  6.894759  4.349512 -1.663661 -0.952437   \n",
       "9997  2.364034  2.842030  8.776391  1.008906  4.299976 -1.380719 -0.943884   \n",
       "9998  9.631511  3.994398  2.757071  7.821347  2.514755 -0.966330 -0.649915   \n",
       "9999  6.530527  6.781790  4.349695  8.673138  3.492807 -1.390285 -1.532193   \n",
       "\n",
       "            p4        g1        g2        g3        g4      stab     stabf  \n",
       "0    -1.723086  0.650456  0.859578  0.887445  0.958034  0.055347  unstable  \n",
       "1    -1.255012  0.413441  0.862414  0.562139  0.781760 -0.005957    stable  \n",
       "2    -0.920492  0.163041  0.766689  0.839444  0.109853  0.003471  unstable  \n",
       "3    -0.997374  0.446209  0.976744  0.929381  0.362718  0.028871  unstable  \n",
       "4    -0.554305  0.797110  0.455450  0.656947  0.820923  0.049860  unstable  \n",
       "...        ...       ...       ...       ...       ...       ...       ...  \n",
       "9995 -1.236256  0.601709  0.779642  0.813512  0.608385  0.023892  unstable  \n",
       "9996 -1.733414  0.502079  0.567242  0.285880  0.366120 -0.025803    stable  \n",
       "9997 -1.975373  0.487838  0.986505  0.149286  0.145984 -0.031810    stable  \n",
       "9998 -0.898510  0.365246  0.587558  0.889118  0.818391  0.037789  unstable  \n",
       "9999 -0.570329  0.073056  0.505441  0.378761  0.942631  0.045263  unstable  \n",
       "\n",
       "[10000 rows x 14 columns]"
      ]
     },
     "execution_count": 1,
     "metadata": {},
     "output_type": "execute_result"
    }
   ],
   "source": [
    "import pandas as pd\n",
    "import numpy as np\n",
    "import matplotlib.pyplot as plt\n",
    "\n",
    "dataset = pd.read_csv('https://archive.ics.uci.edu/ml/machine-learning-databases/00471/Data_for_UCI_named.csv')\n",
    "dataset"
   ]
  },
  {
   "cell_type": "code",
   "execution_count": 2,
   "id": "3c2b9dd5",
   "metadata": {},
   "outputs": [
    {
     "name": "stdout",
     "output_type": "stream",
     "text": [
      "          tau1      tau2      tau3      tau4        p1        p2        p3  \\\n",
      "0     2.959060  3.079885  8.381025  9.780754  3.763085 -0.782604 -1.257395   \n",
      "1     9.304097  4.902524  3.047541  1.369357  5.067812 -1.940058 -1.872742   \n",
      "2     8.971707  8.848428  3.046479  1.214518  3.405158 -1.207456 -1.277210   \n",
      "3     0.716415  7.669600  4.486641  2.340563  3.963791 -1.027473 -1.938944   \n",
      "4     3.134112  7.608772  4.943759  9.857573  3.525811 -1.125531 -1.845975   \n",
      "...        ...       ...       ...       ...       ...       ...       ...   \n",
      "9995  2.930406  9.487627  2.376523  6.187797  3.343416 -0.658054 -1.449106   \n",
      "9996  3.392299  1.274827  2.954947  6.894759  4.349512 -1.663661 -0.952437   \n",
      "9997  2.364034  2.842030  8.776391  1.008906  4.299976 -1.380719 -0.943884   \n",
      "9998  9.631511  3.994398  2.757071  7.821347  2.514755 -0.966330 -0.649915   \n",
      "9999  6.530527  6.781790  4.349695  8.673138  3.492807 -1.390285 -1.532193   \n",
      "\n",
      "            p4        g1        g2        g3        g4  \n",
      "0    -1.723086  0.650456  0.859578  0.887445  0.958034  \n",
      "1    -1.255012  0.413441  0.862414  0.562139  0.781760  \n",
      "2    -0.920492  0.163041  0.766689  0.839444  0.109853  \n",
      "3    -0.997374  0.446209  0.976744  0.929381  0.362718  \n",
      "4    -0.554305  0.797110  0.455450  0.656947  0.820923  \n",
      "...        ...       ...       ...       ...       ...  \n",
      "9995 -1.236256  0.601709  0.779642  0.813512  0.608385  \n",
      "9996 -1.733414  0.502079  0.567242  0.285880  0.366120  \n",
      "9997 -1.975373  0.487838  0.986505  0.149286  0.145984  \n",
      "9998 -0.898510  0.365246  0.587558  0.889118  0.818391  \n",
      "9999 -0.570329  0.073056  0.505441  0.378761  0.942631  \n",
      "\n",
      "[10000 rows x 12 columns]          stabf\n",
      "0     unstable\n",
      "1       stable\n",
      "2     unstable\n",
      "3     unstable\n",
      "4     unstable\n",
      "...        ...\n",
      "9995  unstable\n",
      "9996    stable\n",
      "9997    stable\n",
      "9998  unstable\n",
      "9999  unstable\n",
      "\n",
      "[10000 rows x 1 columns]\n"
     ]
    }
   ],
   "source": [
    "x = dataset.iloc[:, :12]\n",
    "y = dataset.iloc[:, -1:]\n",
    "print(x, y)"
   ]
  },
  {
   "cell_type": "code",
   "execution_count": 3,
   "id": "37b772b4",
   "metadata": {},
   "outputs": [],
   "source": [
    "from sklearn.model_selection import train_test_split\n",
    "x_train, x_test, y_train, y_test = train_test_split(x, y, test_size=0.2, random_state=1)"
   ]
  },
  {
   "cell_type": "code",
   "execution_count": 4,
   "id": "5a8223dd",
   "metadata": {},
   "outputs": [],
   "source": [
    "from sklearn.preprocessing import StandardScaler\n",
    "scaler = StandardScaler()\n",
    "x_train = scaler.fit_transform(x_train)\n",
    "\n",
    "x_test = scaler.transform(x_test)"
   ]
  },
  {
   "cell_type": "code",
   "execution_count": 5,
   "id": "a9ed4b3f",
   "metadata": {},
   "outputs": [
    {
     "data": {
      "text/plain": [
       "array([[ 0.36732671, -0.98604156,  0.65044706, ...,  0.33985949,\n",
       "         0.58556788,  0.49223946],\n",
       "       [-0.06465869,  0.08943734,  1.03507899, ..., -1.5584875 ,\n",
       "         1.42964862, -1.44352101],\n",
       "       [-1.46785   ,  1.29841758, -0.50253617, ...,  1.45153362,\n",
       "        -1.04574277,  0.49248925],\n",
       "       ...,\n",
       "       [ 0.65760851, -0.72275633, -1.4058879 , ...,  0.29310048,\n",
       "        -1.55058661,  0.81034412],\n",
       "       [-0.05931596, -1.26053241, -1.01047147, ..., -0.38825455,\n",
       "        -0.72678059,  1.66791568],\n",
       "       [-1.47321368,  0.63843757,  0.25012249, ..., -1.17410957,\n",
       "         1.179282  ,  0.78362657]])"
      ]
     },
     "execution_count": 5,
     "metadata": {},
     "output_type": "execute_result"
    }
   ],
   "source": [
    "x_train"
   ]
  },
  {
   "cell_type": "code",
   "execution_count": 6,
   "id": "fd38ff44",
   "metadata": {},
   "outputs": [
    {
     "name": "stderr",
     "output_type": "stream",
     "text": [
      "C:\\Users\\SEUN\\anaconda3\\lib\\site-packages\\sklearn\\preprocessing\\_label.py:115: DataConversionWarning: A column-vector y was passed when a 1d array was expected. Please change the shape of y to (n_samples, ), for example using ravel().\n",
      "  y = column_or_1d(y, warn=True)\n"
     ]
    },
    {
     "data": {
      "text/plain": [
       "array([1, 1, 1, ..., 1, 1, 0])"
      ]
     },
     "execution_count": 6,
     "metadata": {},
     "output_type": "execute_result"
    }
   ],
   "source": [
    "from sklearn.preprocessing import LabelEncoder\n",
    "le = LabelEncoder()\n",
    "le.fit_transform(y_train)"
   ]
  },
  {
   "cell_type": "code",
   "execution_count": 7,
   "id": "c38fb627",
   "metadata": {},
   "outputs": [
    {
     "name": "stderr",
     "output_type": "stream",
     "text": [
      "C:\\Users\\SEUN\\AppData\\Local\\Temp/ipykernel_3228/2782890027.py:3: DataConversionWarning: A column-vector y was passed when a 1d array was expected. Please change the shape of y to (n_samples,), for example using ravel().\n",
      "  rf.fit(x_train, y_train)\n"
     ]
    },
    {
     "data": {
      "text/plain": [
       "RandomForestClassifier()"
      ]
     },
     "execution_count": 7,
     "metadata": {},
     "output_type": "execute_result"
    }
   ],
   "source": [
    "from sklearn.ensemble import RandomForestClassifier\n",
    "rf = RandomForestClassifier()\n",
    "rf.fit(x_train, y_train)"
   ]
  },
  {
   "cell_type": "code",
   "execution_count": 22,
   "id": "b40544b4",
   "metadata": {},
   "outputs": [],
   "source": [
    "from sklearn.ensemble import ExtraTreesClassifier\n",
    "etc = ExtraTreesClassifier(verbose=1, random_state=1)\n"
   ]
  },
  {
   "cell_type": "code",
   "execution_count": 23,
   "id": "a97a3867",
   "metadata": {},
   "outputs": [
    {
     "name": "stderr",
     "output_type": "stream",
     "text": [
      "C:\\Users\\SEUN\\AppData\\Local\\Temp/ipykernel_3228/226129121.py:1: DataConversionWarning: A column-vector y was passed when a 1d array was expected. Please change the shape of y to (n_samples,), for example using ravel().\n",
      "  etc.fit(x_train, y_train)\n",
      "[Parallel(n_jobs=1)]: Using backend SequentialBackend with 1 concurrent workers.\n",
      "[Parallel(n_jobs=1)]: Done 100 out of 100 | elapsed:    1.9s finished\n"
     ]
    },
    {
     "data": {
      "text/plain": [
       "ExtraTreesClassifier(random_state=1, verbose=1)"
      ]
     },
     "execution_count": 23,
     "metadata": {},
     "output_type": "execute_result"
    }
   ],
   "source": [
    "etc.fit(x_train, y_train)"
   ]
  },
  {
   "cell_type": "code",
   "execution_count": 27,
   "id": "24fffdfa",
   "metadata": {},
   "outputs": [
    {
     "name": "stdout",
     "output_type": "stream",
     "text": [
      "Accuracy 92 \n"
     ]
    }
   ],
   "source": [
    "from sklearn.metrics import accuracy_score\n",
    "new_pred= rf.predict(x_test)\n",
    "accuracy = accuracy_score(y_true=y_test, y_pred=new_pred)\n",
    "print('Accuracy {} '.format(round(accuracy*100),  4))"
   ]
  },
  {
   "cell_type": "code",
   "execution_count": 11,
   "id": "bfd80807",
   "metadata": {},
   "outputs": [
    {
     "name": "stderr",
     "output_type": "stream",
     "text": [
      "C:\\Users\\SEUN\\anaconda3\\lib\\site-packages\\xgboost\\sklearn.py:1224: UserWarning: The use of label encoder in XGBClassifier is deprecated and will be removed in a future release. To remove this warning, do the following: 1) Pass option use_label_encoder=False when constructing XGBClassifier object; and 2) Encode your labels (y) as integers starting with 0, i.e. 0, 1, 2, ..., [num_class - 1].\n",
      "  warnings.warn(label_encoder_deprecation_msg, UserWarning)\n",
      "C:\\Users\\SEUN\\anaconda3\\lib\\site-packages\\sklearn\\preprocessing\\_label.py:98: DataConversionWarning: A column-vector y was passed when a 1d array was expected. Please change the shape of y to (n_samples, ), for example using ravel().\n",
      "  y = column_or_1d(y, warn=True)\n",
      "C:\\Users\\SEUN\\anaconda3\\lib\\site-packages\\sklearn\\preprocessing\\_label.py:133: DataConversionWarning: A column-vector y was passed when a 1d array was expected. Please change the shape of y to (n_samples, ), for example using ravel().\n",
      "  y = column_or_1d(y, warn=True)\n"
     ]
    },
    {
     "name": "stdout",
     "output_type": "stream",
     "text": [
      "[21:15:28] WARNING: ..\\src\\learner.cc:1115: Starting in XGBoost 1.3.0, the default evaluation metric used with the objective 'binary:logistic' was changed from 'error' to 'logloss'. Explicitly set eval_metric if you'd like to restore the old behavior.\n",
      "[0]\tvalidation_0-logloss:0.55922\n",
      "[1]\tvalidation_0-logloss:0.47399\n",
      "[2]\tvalidation_0-logloss:0.41388\n",
      "[3]\tvalidation_0-logloss:0.37066\n",
      "[4]\tvalidation_0-logloss:0.33641\n",
      "[5]\tvalidation_0-logloss:0.30873\n",
      "[6]\tvalidation_0-logloss:0.28754\n",
      "[7]\tvalidation_0-logloss:0.26723\n",
      "[8]\tvalidation_0-logloss:0.25526\n",
      "[9]\tvalidation_0-logloss:0.24255\n",
      "[10]\tvalidation_0-logloss:0.23309\n",
      "[11]\tvalidation_0-logloss:0.22477\n",
      "[12]\tvalidation_0-logloss:0.21591\n",
      "[13]\tvalidation_0-logloss:0.20882\n",
      "[14]\tvalidation_0-logloss:0.20274\n",
      "[15]\tvalidation_0-logloss:0.20006\n",
      "[16]\tvalidation_0-logloss:0.19576\n",
      "[17]\tvalidation_0-logloss:0.19173\n",
      "[18]\tvalidation_0-logloss:0.18674\n",
      "[19]\tvalidation_0-logloss:0.18333\n",
      "[20]\tvalidation_0-logloss:0.18079\n",
      "[21]\tvalidation_0-logloss:0.17731\n",
      "[22]\tvalidation_0-logloss:0.17646\n",
      "[23]\tvalidation_0-logloss:0.17319\n",
      "[24]\tvalidation_0-logloss:0.17140\n",
      "[25]\tvalidation_0-logloss:0.16647\n",
      "[26]\tvalidation_0-logloss:0.16415\n",
      "[27]\tvalidation_0-logloss:0.16284\n",
      "[28]\tvalidation_0-logloss:0.16081\n",
      "[29]\tvalidation_0-logloss:0.16011\n",
      "[30]\tvalidation_0-logloss:0.15774\n",
      "[31]\tvalidation_0-logloss:0.15659\n",
      "[32]\tvalidation_0-logloss:0.15432\n",
      "[33]\tvalidation_0-logloss:0.15396\n",
      "[34]\tvalidation_0-logloss:0.15111\n",
      "[35]\tvalidation_0-logloss:0.14950\n",
      "[36]\tvalidation_0-logloss:0.14837\n",
      "[37]\tvalidation_0-logloss:0.14819\n",
      "[38]\tvalidation_0-logloss:0.14523\n",
      "[39]\tvalidation_0-logloss:0.14301\n",
      "[40]\tvalidation_0-logloss:0.14321\n",
      "[41]\tvalidation_0-logloss:0.14306\n",
      "[42]\tvalidation_0-logloss:0.14075\n",
      "[43]\tvalidation_0-logloss:0.13972\n",
      "[44]\tvalidation_0-logloss:0.13747\n",
      "[45]\tvalidation_0-logloss:0.13734\n",
      "[46]\tvalidation_0-logloss:0.13639\n",
      "[47]\tvalidation_0-logloss:0.13571\n",
      "[48]\tvalidation_0-logloss:0.13476\n",
      "[49]\tvalidation_0-logloss:0.13412\n",
      "[50]\tvalidation_0-logloss:0.13426\n",
      "[51]\tvalidation_0-logloss:0.13394\n",
      "[52]\tvalidation_0-logloss:0.13392\n",
      "[53]\tvalidation_0-logloss:0.13395\n",
      "[54]\tvalidation_0-logloss:0.13348\n",
      "[55]\tvalidation_0-logloss:0.13273\n",
      "[56]\tvalidation_0-logloss:0.13161\n",
      "[57]\tvalidation_0-logloss:0.13112\n",
      "[58]\tvalidation_0-logloss:0.13070\n",
      "[59]\tvalidation_0-logloss:0.13012\n",
      "[60]\tvalidation_0-logloss:0.12941\n",
      "[61]\tvalidation_0-logloss:0.12931\n",
      "[62]\tvalidation_0-logloss:0.12927\n",
      "[63]\tvalidation_0-logloss:0.12849\n",
      "[64]\tvalidation_0-logloss:0.12763\n",
      "[65]\tvalidation_0-logloss:0.12865\n",
      "[66]\tvalidation_0-logloss:0.12744\n",
      "[67]\tvalidation_0-logloss:0.12681\n",
      "[68]\tvalidation_0-logloss:0.12622\n",
      "[69]\tvalidation_0-logloss:0.12559\n",
      "[70]\tvalidation_0-logloss:0.12543\n",
      "[71]\tvalidation_0-logloss:0.12481\n",
      "[72]\tvalidation_0-logloss:0.12504\n",
      "[73]\tvalidation_0-logloss:0.12486\n",
      "[74]\tvalidation_0-logloss:0.12470\n",
      "[75]\tvalidation_0-logloss:0.12465\n",
      "[76]\tvalidation_0-logloss:0.12511\n",
      "[77]\tvalidation_0-logloss:0.12447\n",
      "[78]\tvalidation_0-logloss:0.12443\n",
      "[79]\tvalidation_0-logloss:0.12387\n",
      "[80]\tvalidation_0-logloss:0.12377\n",
      "[81]\tvalidation_0-logloss:0.12359\n",
      "[82]\tvalidation_0-logloss:0.12358\n",
      "[83]\tvalidation_0-logloss:0.12338\n",
      "[84]\tvalidation_0-logloss:0.12274\n",
      "[85]\tvalidation_0-logloss:0.12289\n",
      "[86]\tvalidation_0-logloss:0.12334\n",
      "[87]\tvalidation_0-logloss:0.12272\n",
      "[88]\tvalidation_0-logloss:0.12191\n",
      "[89]\tvalidation_0-logloss:0.12200\n",
      "[90]\tvalidation_0-logloss:0.12212\n",
      "[91]\tvalidation_0-logloss:0.12139\n",
      "[92]\tvalidation_0-logloss:0.12149\n",
      "[93]\tvalidation_0-logloss:0.12106\n",
      "[94]\tvalidation_0-logloss:0.12069\n",
      "[95]\tvalidation_0-logloss:0.12089\n",
      "[96]\tvalidation_0-logloss:0.12082\n",
      "[97]\tvalidation_0-logloss:0.12055\n",
      "[98]\tvalidation_0-logloss:0.12014\n",
      "[99]\tvalidation_0-logloss:0.11982\n"
     ]
    },
    {
     "data": {
      "text/plain": [
       "XGBClassifier(base_score=0.5, booster='gbtree', colsample_bylevel=1,\n",
       "              colsample_bynode=1, colsample_bytree=1, enable_categorical=False,\n",
       "              gamma=0, gpu_id=-1, importance_type=None,\n",
       "              interaction_constraints='', learning_rate=0.300000012,\n",
       "              max_delta_step=0, max_depth=6, min_child_weight=1, missing=nan,\n",
       "              monotone_constraints='()', n_estimators=100, n_jobs=4,\n",
       "              num_parallel_tree=1, predictor='auto', random_state=0,\n",
       "              reg_alpha=0, reg_lambda=1, scale_pos_weight=1, subsample=1,\n",
       "              tree_method='exact', validate_parameters=1, verbosity=None)"
      ]
     },
     "execution_count": 11,
     "metadata": {},
     "output_type": "execute_result"
    }
   ],
   "source": [
    "import xgboost\n",
    "model_xgboost = xgboost.XGBClassifier()\n",
    "eval_set = [(x_test, y_test)]\n",
    "model_xgboost.fit(x_train, y_train, early_stopping_rounds=10, eval_set=eval_set, verbose=True)"
   ]
  },
  {
   "cell_type": "code",
   "execution_count": 36,
   "id": "64439eb7",
   "metadata": {},
   "outputs": [
    {
     "name": "stdout",
     "output_type": "stream",
     "text": [
      "Accuracy 95 \n"
     ]
    }
   ],
   "source": [
    "n_predi = model_xgboost.predict(x_test)\n",
    "accuracy = accuracy_score(y_true=y_test, y_pred=n_predi)\n",
    "print('Accuracy {} '.format(round(accuracy*100),  4))"
   ]
  },
  {
   "cell_type": "code",
   "execution_count": 13,
   "id": "82bd821b",
   "metadata": {},
   "outputs": [
    {
     "name": "stderr",
     "output_type": "stream",
     "text": [
      "C:\\Users\\SEUN\\anaconda3\\lib\\site-packages\\sklearn\\preprocessing\\_label.py:98: DataConversionWarning: A column-vector y was passed when a 1d array was expected. Please change the shape of y to (n_samples, ), for example using ravel().\n",
      "  y = column_or_1d(y, warn=True)\n",
      "C:\\Users\\SEUN\\anaconda3\\lib\\site-packages\\sklearn\\preprocessing\\_label.py:133: DataConversionWarning: A column-vector y was passed when a 1d array was expected. Please change the shape of y to (n_samples, ), for example using ravel().\n",
      "  y = column_or_1d(y, warn=True)\n",
      "C:\\Users\\SEUN\\anaconda3\\lib\\site-packages\\lightgbm\\sklearn.py:736: UserWarning: 'verbose' argument is deprecated and will be removed in a future release of LightGBM. Pass 'log_evaluation()' callback via 'callbacks' argument instead.\n",
      "  _log_warning(\"'verbose' argument is deprecated and will be removed in a future release of LightGBM. \"\n"
     ]
    },
    {
     "name": "stdout",
     "output_type": "stream",
     "text": [
      "[20]\ttraining's binary_logloss: 0.285068\tvalid_0's binary_logloss: 0.321074\n",
      "[40]\ttraining's binary_logloss: 0.179597\tvalid_0's binary_logloss: 0.232725\n",
      "[60]\ttraining's binary_logloss: 0.128521\tvalid_0's binary_logloss: 0.193545\n",
      "[80]\ttraining's binary_logloss: 0.0968496\tvalid_0's binary_logloss: 0.17239\n",
      "[100]\ttraining's binary_logloss: 0.0754046\tvalid_0's binary_logloss: 0.15893\n"
     ]
    },
    {
     "data": {
      "text/plain": [
       "LGBMClassifier(learning_rate=0.09, max_depth=-5, random_state=1)"
      ]
     },
     "execution_count": 13,
     "metadata": {},
     "output_type": "execute_result"
    }
   ],
   "source": [
    "import lightgbm as lgb\n",
    "model = lgb.LGBMClassifier(learning_rate=0.09,max_depth=-5,random_state=1)\n",
    "model.fit(x_train,y_train,eval_set=[(x_test,y_test),(x_train,y_train)],\n",
    "          verbose=20,eval_metric='logloss')"
   ]
  },
  {
   "cell_type": "code",
   "execution_count": 37,
   "id": "e2fa7fab",
   "metadata": {},
   "outputs": [
    {
     "name": "stdout",
     "output_type": "stream",
     "text": [
      "Accuracy 95 \n"
     ]
    }
   ],
   "source": [
    "n_pred = model.predict(x_test)\n",
    "accuracy_lgbm = accuracy_score(y_true=y_test, y_pred=n_pred)\n",
    "print('Accuracy {} '.format(round(accuracy*100),  4))"
   ]
  },
  {
   "cell_type": "code",
   "execution_count": null,
   "id": "20b53f46",
   "metadata": {},
   "outputs": [],
   "source": []
  },
  {
   "cell_type": "code",
   "execution_count": null,
   "id": "74513e8f",
   "metadata": {},
   "outputs": [],
   "source": []
  }
 ],
 "metadata": {
  "kernelspec": {
   "display_name": "Python 3 (ipykernel)",
   "language": "python",
   "name": "python3"
  },
  "language_info": {
   "codemirror_mode": {
    "name": "ipython",
    "version": 3
   },
   "file_extension": ".py",
   "mimetype": "text/x-python",
   "name": "python",
   "nbconvert_exporter": "python",
   "pygments_lexer": "ipython3",
   "version": "3.9.7"
  }
 },
 "nbformat": 4,
 "nbformat_minor": 5
}
